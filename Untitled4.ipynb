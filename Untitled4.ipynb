{
 "cells": [
  {
   "cell_type": "code",
   "execution_count": 1,
   "metadata": {
    "collapsed": true
   },
   "outputs": [],
   "source": [
    "%%bash\n",
    "cd /tmp"
   ]
  },
  {
   "cell_type": "code",
   "execution_count": 2,
   "metadata": {},
   "outputs": [
    {
     "name": "stderr",
     "output_type": "stream",
     "text": [
      "Cloning into 'Testing'...\n"
     ]
    }
   ],
   "source": [
    "%%bash\n",
    "cd /tmp\n",
    "rm -rf Testing\n",
    "git clone https://github.com/maghaee/Testing.git"
   ]
  },
  {
   "cell_type": "code",
   "execution_count": 3,
   "metadata": {},
   "outputs": [
    {
     "name": "stdout",
     "output_type": "stream",
     "text": [
      "LICENSE\n",
      "README.md\n",
      "hello.md\n"
     ]
    }
   ],
   "source": [
    "%%bash\n",
    "ls /tmp/Testing"
   ]
  },
  {
   "cell_type": "code",
   "execution_count": 4,
   "metadata": {},
   "outputs": [
    {
     "name": "stdout",
     "output_type": "stream",
     "text": [
      "On branch master\n",
      "Your branch is up-to-date with 'origin/master'.\n",
      "nothing to commit, working tree clean\n"
     ]
    }
   ],
   "source": [
    "%%bash\n",
    "cd /tmp/Testing; git status"
   ]
  },
  {
   "cell_type": "code",
   "execution_count": 5,
   "metadata": {},
   "outputs": [
    {
     "name": "stdout",
     "output_type": "stream",
     "text": [
      "* master\n"
     ]
    }
   ],
   "source": [
    "%%bash\n",
    "cd /tmp/Testing; git branch"
   ]
  },
  {
   "cell_type": "code",
   "execution_count": 6,
   "metadata": {},
   "outputs": [
    {
     "name": "stdout",
     "output_type": "stream",
     "text": [
      "On branch master\n",
      "Your branch is up-to-date with 'origin/master'.\n",
      "Changes not staged for commit:\n",
      "  (use \"git add <file>...\" to update what will be committed)\n",
      "  (use \"git checkout -- <file>...\" to discard changes in working directory)\n",
      "\n",
      "\tmodified:   hello.md\n",
      "\n",
      "no changes added to commit (use \"git add\" and/or \"git commit -a\")\n"
     ]
    }
   ],
   "source": [
    "%%bash\n",
    "cd /tmp/Testing\n",
    "echo '# Hello world rahuldave' > hello.md\n",
    "git status"
   ]
  },
  {
   "cell_type": "code",
   "execution_count": 7,
   "metadata": {
    "collapsed": true
   },
   "outputs": [],
   "source": [
    "import IPython"
   ]
  },
  {
   "cell_type": "code",
   "execution_count": 27,
   "metadata": {},
   "outputs": [],
   "source": [
    "import numpy as np\n",
    "import scipy as sp\n",
    "import pandas as pd\n",
    "import matplotlib\n",
    "import sklearn\n",
    "import requests\n",
    "import networkx as nx\n",
    "import bs4\n",
    "#import mrjob\n",
    "#import pattern\n",
    "import seaborn\n"
   ]
  },
  {
   "cell_type": "code",
   "execution_count": 11,
   "metadata": {},
   "outputs": [
    {
     "name": "stdout",
     "output_type": "stream",
     "text": [
      "Collecting mrjob\n",
      "  Downloading mrjob-0.5.10-py2.py3-none-any.whl (305kB)\n",
      "Requirement already satisfied: boto>=2.35.0 in c:\\users\\mona\\anaconda3\\lib\\site-packages (from mrjob)\n",
      "Requirement already satisfied: PyYAML>=3.08 in c:\\users\\mona\\anaconda3\\lib\\site-packages (from mrjob)\n",
      "Collecting filechunkio (from mrjob)\n",
      "  Downloading filechunkio-1.8.tar.gz\n",
      "Collecting google-api-python-client>=1.5.0 (from mrjob)\n",
      "  Downloading google_api_python_client-1.6.2-py2.py3-none-any.whl (52kB)\n",
      "Collecting httplib2<1dev,>=0.9.2 (from google-api-python-client>=1.5.0->mrjob)\n",
      "  Downloading httplib2-0.10.3.tar.gz (204kB)\n",
      "Requirement already satisfied: six<2dev,>=1.6.1 in c:\\users\\mona\\anaconda3\\lib\\site-packages (from google-api-python-client>=1.5.0->mrjob)\n",
      "Collecting oauth2client<5.0.0dev,>=1.5.0 (from google-api-python-client>=1.5.0->mrjob)\n",
      "  Downloading oauth2client-4.1.1-py2.py3-none-any.whl (185kB)\n",
      "Collecting uritemplate<4dev,>=3.0.0 (from google-api-python-client>=1.5.0->mrjob)\n",
      "  Downloading uritemplate-3.0.0-py2.py3-none-any.whl\n",
      "Collecting pyasn1>=0.1.7 (from oauth2client<5.0.0dev,>=1.5.0->google-api-python-client>=1.5.0->mrjob)\n",
      "  Downloading pyasn1-0.2.3-py2.py3-none-any.whl (53kB)\n",
      "Collecting pyasn1-modules>=0.0.5 (from oauth2client<5.0.0dev,>=1.5.0->google-api-python-client>=1.5.0->mrjob)\n",
      "  Downloading pyasn1_modules-0.0.9-py2.py3-none-any.whl (60kB)\n",
      "Collecting rsa>=3.1.4 (from oauth2client<5.0.0dev,>=1.5.0->google-api-python-client>=1.5.0->mrjob)\n",
      "  Downloading rsa-3.4.2-py2.py3-none-any.whl (46kB)\n",
      "Building wheels for collected packages: filechunkio, httplib2\n",
      "  Running setup.py bdist_wheel for filechunkio: started\n",
      "  Running setup.py bdist_wheel for filechunkio: finished with status 'done'\n",
      "  Stored in directory: C:\\Users\\Mona\\AppData\\Local\\pip\\Cache\\wheels\\26\\ae\\6a\\d93b918a6a07a0afab4b1c51681047657d1300160ab7045565\n",
      "  Running setup.py bdist_wheel for httplib2: started\n",
      "  Running setup.py bdist_wheel for httplib2: finished with status 'done'\n",
      "  Stored in directory: C:\\Users\\Mona\\AppData\\Local\\pip\\Cache\\wheels\\ca\\ac\\5f\\749651f7925b231103f5316cacca82a487810c22d30f011c0c\n",
      "Successfully built filechunkio httplib2\n",
      "Installing collected packages: filechunkio, httplib2, pyasn1, pyasn1-modules, rsa, oauth2client, uritemplate, google-api-python-client, mrjob\n",
      "Successfully installed filechunkio-1.8 google-api-python-client-1.6.2 httplib2-0.10.3 mrjob-0.5.10 oauth2client-4.1.1 pyasn1-0.2.3 pyasn1-modules-0.0.9 rsa-3.4.2 uritemplate-3.0.0\n"
     ]
    }
   ],
   "source": [
    "!pip install mrjob"
   ]
  },
  {
   "cell_type": "code",
   "execution_count": 12,
   "metadata": {
    "collapsed": true
   },
   "outputs": [],
   "source": [
    "import mrjob"
   ]
  },
  {
   "cell_type": "code",
   "execution_count": 22,
   "metadata": {},
   "outputs": [
    {
     "name": "stdout",
     "output_type": "stream",
     "text": [
      "Collecting setuptools\n",
      "  Downloading setuptools-36.0.1-py2.py3-none-any.whl (476kB)\n",
      "Installing collected packages: setuptools\n",
      "  Found existing installation: setuptools 27.2.0\n",
      "    Uninstalling setuptools-27.2.0:\n",
      "      Successfully uninstalled setuptools-27.2.0\n",
      "Successfully installed setuptools-36.0.1\n"
     ]
    },
    {
     "name": "stderr",
     "output_type": "stream",
     "text": [
      "Traceback (most recent call last):\n",
      "  File \"C:\\Users\\Mona\\Anaconda3\\Scripts\\pip-script.py\", line 5, in <module>\n",
      "    sys.exit(pip.main())\n",
      "  File \"C:\\Users\\Mona\\Anaconda3\\lib\\site-packages\\pip\\__init__.py\", line 249, in main\n",
      "    return command.main(cmd_args)\n",
      "  File \"C:\\Users\\Mona\\Anaconda3\\lib\\site-packages\\pip\\basecommand.py\", line 252, in main\n",
      "    pip_version_check(session)\n",
      "  File \"C:\\Users\\Mona\\Anaconda3\\lib\\site-packages\\pip\\utils\\outdated.py\", line 102, in pip_version_check\n",
      "    installed_version = get_installed_version(\"pip\")\n",
      "  File \"C:\\Users\\Mona\\Anaconda3\\lib\\site-packages\\pip\\utils\\__init__.py\", line 838, in get_installed_version\n",
      "    working_set = pkg_resources.WorkingSet()\n",
      "  File \"C:\\Users\\Mona\\Anaconda3\\lib\\site-packages\\pip\\_vendor\\pkg_resources\\__init__.py\", line 644, in __init__\n",
      "    self.add_entry(entry)\n",
      "  File \"C:\\Users\\Mona\\Anaconda3\\lib\\site-packages\\pip\\_vendor\\pkg_resources\\__init__.py\", line 700, in add_entry\n",
      "    for dist in find_distributions(entry, True):\n",
      "  File \"C:\\Users\\Mona\\Anaconda3\\lib\\site-packages\\pip\\_vendor\\pkg_resources\\__init__.py\", line 1949, in find_eggs_in_zip\n",
      "    if metadata.has_metadata('PKG-INFO'):\n",
      "  File \"C:\\Users\\Mona\\Anaconda3\\lib\\site-packages\\pip\\_vendor\\pkg_resources\\__init__.py\", line 1463, in has_metadata\n",
      "    return self.egg_info and self._has(self._fn(self.egg_info, name))\n",
      "  File \"C:\\Users\\Mona\\Anaconda3\\lib\\site-packages\\pip\\_vendor\\pkg_resources\\__init__.py\", line 1823, in _has\n",
      "    return zip_path in self.zipinfo or zip_path in self._index()\n",
      "  File \"C:\\Users\\Mona\\Anaconda3\\lib\\site-packages\\pip\\_vendor\\pkg_resources\\__init__.py\", line 1703, in zipinfo\n",
      "    return self._zip_manifests.load(self.loader.archive)\n",
      "  File \"C:\\Users\\Mona\\Anaconda3\\lib\\site-packages\\pip\\_vendor\\pkg_resources\\__init__.py\", line 1643, in load\n",
      "    mtime = os.stat(path).st_mtime\n",
      "FileNotFoundError: [WinError 2] The system cannot find the file specified: 'C:\\\\Users\\\\Mona\\\\Anaconda3\\\\lib\\\\site-packages\\\\setuptools-27.2.0-py3.6.egg'\n"
     ]
    }
   ],
   "source": [
    "!pip install --upgrade setuptools"
   ]
  },
  {
   "cell_type": "code",
   "execution_count": 23,
   "metadata": {},
   "outputs": [
    {
     "name": "stdout",
     "output_type": "stream",
     "text": [
      "Collecting ez_setup\n",
      "  Downloading ez_setup-0.9.tar.gz\n",
      "Building wheels for collected packages: ez-setup\n",
      "  Running setup.py bdist_wheel for ez-setup: started\n",
      "  Running setup.py bdist_wheel for ez-setup: finished with status 'done'\n",
      "  Stored in directory: C:\\Users\\Mona\\AppData\\Local\\pip\\Cache\\wheels\\53\\d6\\8b\\a2270e66cf5f68c038fffcc8b871de0c4326550fb187906bab\n",
      "Successfully built ez-setup\n",
      "Installing collected packages: ez-setup\n",
      "Successfully installed ez-setup-0.9\n"
     ]
    }
   ],
   "source": [
    "!pip install ez_setup"
   ]
  },
  {
   "cell_type": "code",
   "execution_count": 24,
   "metadata": {},
   "outputs": [
    {
     "name": "stdout",
     "output_type": "stream",
     "text": [
      "Collecting pattern\n",
      "  Using cached pattern-2.6.zip\n",
      "    Complete output from command python setup.py egg_info:\n",
      "    Traceback (most recent call last):\n",
      "      File \"<string>\", line 1, in <module>\n",
      "      File \"C:\\Users\\Mona\\AppData\\Local\\Temp\\pip-build-4huo52x_\\pattern\\setup.py\", line 40\n",
      "        print n\n",
      "              ^\n",
      "    SyntaxError: Missing parentheses in call to 'print'\n",
      "    \n",
      "    ----------------------------------------\n"
     ]
    },
    {
     "name": "stderr",
     "output_type": "stream",
     "text": [
      "Command \"python setup.py egg_info\" failed with error code 1 in C:\\Users\\Mona\\AppData\\Local\\Temp\\pip-build-4huo52x_\\pattern\\\n"
     ]
    }
   ],
   "source": [
    "!pip install pattern"
   ]
  },
  {
   "cell_type": "code",
   "execution_count": 26,
   "metadata": {},
   "outputs": [
    {
     "name": "stdout",
     "output_type": "stream",
     "text": [
      "Searching for setuptools\n",
      "Reading https://pypi.python.org/simple/setuptools/\n",
      "Downloading https://pypi.python.org/packages/a9/23/720c7558ba6ad3e0f5ad01e0d6ea2288b486da32f053c73e259f7c392042/setuptools-36.0.1.zip#md5=430eb106788183eefe9f444a300007f0\n",
      "Best match: setuptools 36.0.1\n",
      "Processing setuptools-36.0.1.zip\n",
      "Writing C:\\Users\\Mona\\AppData\\Local\\Temp\\easy_install-m6yqm6t1\\setuptools-36.0.1\\setup.cfg\n",
      "Running setuptools-36.0.1\\setup.py -q bdist_egg --dist-dir C:\\Users\\Mona\\AppData\\Local\\Temp\\easy_install-m6yqm6t1\\setuptools-36.0.1\\egg-dist-tmp-9huzb8z3\n",
      "Copying setuptools-36.0.1-py3.6.egg to c:\\users\\mona\\anaconda3\\lib\\site-packages\n",
      "Adding setuptools 36.0.1 to easy-install.pth file\n",
      "Installing easy_install-script.py script to c:\\users\\mona\\anaconda3\\Scripts\n",
      "Installing easy_install.exe script to c:\\users\\mona\\anaconda3\\Scripts\n"
     ]
    },
    {
     "name": "stderr",
     "output_type": "stream",
     "text": [
      "warning: no files found matching '*' under directory 'setuptools\\_vendor'\n",
      "error: [WinError 5] Access is denied: 'c:\\\\users\\\\mona\\\\anaconda3\\\\Scripts\\\\easy_install.exe'\n"
     ]
    }
   ],
   "source": [
    "!easy_install -U setuptools"
   ]
  },
  {
   "cell_type": "code",
   "execution_count": 18,
   "metadata": {},
   "outputs": [
    {
     "ename": "ModuleNotFoundError",
     "evalue": "No module named 'pattern'",
     "output_type": "error",
     "traceback": [
      "\u001b[1;31m---------------------------------------------------------------------------\u001b[0m",
      "\u001b[1;31mModuleNotFoundError\u001b[0m                       Traceback (most recent call last)",
      "\u001b[1;32m<ipython-input-18-4b662941bac1>\u001b[0m in \u001b[0;36m<module>\u001b[1;34m()\u001b[0m\n\u001b[1;32m----> 1\u001b[1;33m \u001b[1;32mimport\u001b[0m \u001b[0mpattern\u001b[0m\u001b[1;33m\u001b[0m\u001b[0m\n\u001b[0m",
      "\u001b[1;31mModuleNotFoundError\u001b[0m: No module named 'pattern'"
     ]
    }
   ],
   "source": [
    "import pattern"
   ]
  },
  {
   "cell_type": "code",
   "execution_count": 34,
   "metadata": {},
   "outputs": [
    {
     "data": {
      "text/plain": [
       "<matplotlib.text.Text at 0x16ff1c099b0>"
      ]
     },
     "execution_count": 34,
     "metadata": {},
     "output_type": "execute_result"
    },
    {
     "data": {
      "image/png": "[encoded data removed]",
      "text/plain": [
       "<matplotlib.figure.Figure at 0x16ff2057978>"
      ]
     },
     "metadata": {},
     "output_type": "display_data"
    }
   ],
   "source": [
    "%matplotlib inline\n",
    "\n",
    "import matplotlib.pyplot as plt\n",
    "x = np.linspace(0,10,30)\n",
    "y = np.sin(x)\n",
    "z = y + np.random.normal(size=30)\n",
    "plt.plot(x,y,'ro-',label ='A sine wave')\n",
    "plt.plot(x,z,'b-',label = 'Noisy sin')\n",
    "plt.legend(loc = 'lower right')\n",
    "plt.xlabel('X axis')\n",
    "plt.ylabel('y axis')\n"
   ]
  },
  {
   "cell_type": "code",
   "execution_count": 38,
   "metadata": {},
   "outputs": [
    {
     "name": "stdout",
     "output_type": "stream",
     "text": [
      "make a 3 row x 4 column array of randm numbers\n",
      "[[ 0.65725414  0.69592765  0.08664182  0.94576561]\n",
      " [ 0.62694141  0.29651559  0.80216771  0.50058736]\n",
      " [ 0.51094208  0.05865351  0.16294069  0.47054515]]\n"
     ]
    }
   ],
   "source": [
    "print(\"make a 3 row x 4 column array of randm numbers\")\n",
    "x = np.random.random((3,4))\n",
    "print(x)"
   ]
  },
  {
   "cell_type": "code",
   "execution_count": 39,
   "metadata": {},
   "outputs": [
    {
     "name": "stdout",
     "output_type": "stream",
     "text": [
      "[[ 1.65725414  1.69592765  1.08664182  1.94576561]\n",
      " [ 1.62694141  1.29651559  1.80216771  1.50058736]\n",
      " [ 1.51094208  1.05865351  1.16294069  1.47054515]]\n"
     ]
    }
   ],
   "source": [
    "x = x + 1\n",
    "print(x)"
   ]
  },
  {
   "cell_type": "code",
   "execution_count": 41,
   "metadata": {},
   "outputs": [
    {
     "name": "stdout",
     "output_type": "stream",
     "text": [
      "1.80216771109\n"
     ]
    }
   ],
   "source": [
    "print(x[1,2])"
   ]
  },
  {
   "cell_type": "code",
   "execution_count": 42,
   "metadata": {},
   "outputs": [
    {
     "name": "stdout",
     "output_type": "stream",
     "text": [
      "[ 1.65725414  1.69592765  1.08664182  1.94576561]\n"
     ]
    }
   ],
   "source": [
    "print(x[0,:])"
   ]
  },
  {
   "cell_type": "code",
   "execution_count": 43,
   "metadata": {},
   "outputs": [
    {
     "name": "stdout",
     "output_type": "stream",
     "text": [
      "[ 1.65725414  1.08664182]\n"
     ]
    }
   ],
   "source": [
    "print(x[0,::2])"
   ]
  },
  {
   "cell_type": "code",
   "execution_count": 54,
   "metadata": {},
   "outputs": [
    {
     "name": "stdout",
     "output_type": "stream",
     "text": [
      "[ 1.65725414  1.69592765  1.80216771  1.94576561]\n"
     ]
    }
   ],
   "source": [
    "print(np.max(x,axis =0))"
   ]
  },
  {
   "cell_type": "code",
   "execution_count": null,
   "metadata": {
    "collapsed": true
   },
   "outputs": [],
   "source": []
  },
  {
   "cell_type": "code",
   "execution_count": null,
   "metadata": {
    "collapsed": true
   },
   "outputs": [],
   "source": []
  }
 ],
 "metadata": {
  "kernelspec": {
   "display_name": "Python 3",
   "language": "python",
   "name": "python3"
  },
  "language_info": {
   "codemirror_mode": {
    "name": "ipython",
    "version": 3
   },
   "file_extension": ".py",
   "mimetype": "text/x-python",
   "name": "python",
   "nbconvert_exporter": "python",
   "pygments_lexer": "ipython3",
   "version": "3.6.1"
  }
 },
 "nbformat": 4,
 "nbformat_minor": 2
}
